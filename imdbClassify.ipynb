{
  "nbformat": 4,
  "nbformat_minor": 0,
  "metadata": {
    "colab": {
      "provenance": [],
      "collapsed_sections": [],
      "toc_visible": true,
      "authorship_tag": "ABX9TyP4mteFoXmpEKYPaul/AyQ4",
      "include_colab_link": true
    },
    "kernelspec": {
      "name": "python3",
      "display_name": "Python 3"
    },
    "language_info": {
      "name": "python"
    }
  },
  "cells": [
    {
      "cell_type": "markdown",
      "metadata": {
        "id": "view-in-github",
        "colab_type": "text"
      },
      "source": [
        "<a href=\"https://colab.research.google.com/github/ddemirel1/Deep-Learning-With-Python/blob/main/imdbClassify.ipynb\" target=\"_parent\"><img src=\"https://colab.research.google.com/assets/colab-badge.svg\" alt=\"Open In Colab\"/></a>"
      ]
    },
    {
      "cell_type": "markdown",
      "source": [
        "Binary classification example using IMDB data\n"
      ],
      "metadata": {
        "id": "pq1exjU5qjwL"
      }
    },
    {
      "cell_type": "code",
      "source": [
        "from tensorflow.keras.datasets import imdb\n",
        "(train_data, train_labels), (test_data, test_labels) = imdb.load_data(\n",
        "    num_words=10000)\n",
        "\n",
        "import numpy as np\n",
        "def vectorize_sequences(sequences, dimension=10000):\n",
        "    results = np.zeros((len(sequences), dimension))\n",
        "    for i, sequence in enumerate(sequences):\n",
        "        for j in sequence:\n",
        "            results[i, j] = 1.\n",
        "    return results\n",
        "\n",
        "x_train = vectorize_sequences(train_data)\n",
        "x_test = vectorize_sequences(test_data)\n",
        "y_train = np.asarray(train_labels).astype(\"float32\")\n",
        "y_test = np.asarray(test_labels).astype(\"float32\")\n",
        "\n",
        "from tensorflow import keras\n",
        "from tensorflow.keras import layers\n",
        "\n",
        "model = keras.Sequential([\n",
        "    layers.Dense(16, activation=\"relu\"),\n",
        "    layers.Dense(16, activation=\"relu\"),\n",
        "    layers.Dense(1, activation=\"sigmoid\")\n",
        "])\n",
        "\n",
        "model.compile(optimizer=\"rmsprop\",\n",
        "              loss=\"binary_crossentropy\",\n",
        "              metrics=[\"accuracy\"])\n",
        "\n",
        "x_val = x_train[:10000]\n",
        "partial_x_train = x_train[10000:]\n",
        "y_val = y_train[:10000]\n",
        "partial_y_train = y_train[10000:]\n",
        "\n",
        "\n",
        "history = model.fit(partial_x_train,\n",
        "                    partial_y_train,\n",
        "                    epochs=20,\n",
        "                    batch_size=512,\n",
        "                    validation_data=(x_val, y_val))\n",
        "\n"
      ],
      "metadata": {
        "colab": {
          "base_uri": "https://localhost:8080/"
        },
        "id": "Hl0jZk1pb9T4",
        "outputId": "fd180e61-cdd1-4312-a4de-16612c683602"
      },
      "execution_count": 1,
      "outputs": [
        {
          "output_type": "stream",
          "name": "stdout",
          "text": [
            "Downloading data from https://storage.googleapis.com/tensorflow/tf-keras-datasets/imdb.npz\n",
            "17464789/17464789 [==============================] - 0s 0us/step\n",
            "Epoch 1/30\n",
            "30/30 [==============================] - 3s 51ms/step - loss: 0.5554 - accuracy: 0.7785 - val_loss: 0.4408 - val_accuracy: 0.8591\n",
            "Epoch 2/30\n",
            "30/30 [==============================] - 1s 25ms/step - loss: 0.3526 - accuracy: 0.8934 - val_loss: 0.3281 - val_accuracy: 0.8860\n",
            "Epoch 3/30\n",
            "30/30 [==============================] - 1s 20ms/step - loss: 0.2553 - accuracy: 0.9205 - val_loss: 0.2980 - val_accuracy: 0.8853\n",
            "Epoch 4/30\n",
            "30/30 [==============================] - 1s 20ms/step - loss: 0.1998 - accuracy: 0.9353 - val_loss: 0.2729 - val_accuracy: 0.8920\n",
            "Epoch 5/30\n",
            "30/30 [==============================] - 1s 21ms/step - loss: 0.1647 - accuracy: 0.9467 - val_loss: 0.2721 - val_accuracy: 0.8901\n",
            "Epoch 6/30\n",
            "30/30 [==============================] - 1s 20ms/step - loss: 0.1346 - accuracy: 0.9570 - val_loss: 0.2983 - val_accuracy: 0.8848\n",
            "Epoch 7/30\n",
            "30/30 [==============================] - 1s 20ms/step - loss: 0.1138 - accuracy: 0.9647 - val_loss: 0.2923 - val_accuracy: 0.8849\n",
            "Epoch 8/30\n",
            "30/30 [==============================] - 1s 20ms/step - loss: 0.0945 - accuracy: 0.9725 - val_loss: 0.3123 - val_accuracy: 0.8840\n",
            "Epoch 9/30\n",
            "30/30 [==============================] - 1s 20ms/step - loss: 0.0798 - accuracy: 0.9781 - val_loss: 0.3381 - val_accuracy: 0.8818\n",
            "Epoch 10/30\n",
            "30/30 [==============================] - 1s 20ms/step - loss: 0.0649 - accuracy: 0.9826 - val_loss: 0.3507 - val_accuracy: 0.8794\n",
            "Epoch 11/30\n",
            "30/30 [==============================] - 1s 21ms/step - loss: 0.0541 - accuracy: 0.9855 - val_loss: 0.3953 - val_accuracy: 0.8769\n",
            "Epoch 12/30\n",
            "30/30 [==============================] - 1s 20ms/step - loss: 0.0446 - accuracy: 0.9890 - val_loss: 0.4086 - val_accuracy: 0.8753\n",
            "Epoch 13/30\n",
            "30/30 [==============================] - 1s 21ms/step - loss: 0.0362 - accuracy: 0.9923 - val_loss: 0.4459 - val_accuracy: 0.8717\n",
            "Epoch 14/30\n",
            "30/30 [==============================] - 1s 21ms/step - loss: 0.0284 - accuracy: 0.9946 - val_loss: 0.4879 - val_accuracy: 0.8670\n",
            "Epoch 15/30\n",
            "30/30 [==============================] - 1s 20ms/step - loss: 0.0238 - accuracy: 0.9954 - val_loss: 0.4981 - val_accuracy: 0.8718\n",
            "Epoch 16/30\n",
            "30/30 [==============================] - 1s 20ms/step - loss: 0.0193 - accuracy: 0.9962 - val_loss: 0.5416 - val_accuracy: 0.8716\n",
            "Epoch 17/30\n",
            "30/30 [==============================] - 1s 21ms/step - loss: 0.0149 - accuracy: 0.9980 - val_loss: 0.5620 - val_accuracy: 0.8679\n",
            "Epoch 18/30\n",
            "30/30 [==============================] - 1s 20ms/step - loss: 0.0111 - accuracy: 0.9989 - val_loss: 0.6369 - val_accuracy: 0.8652\n",
            "Epoch 19/30\n",
            "30/30 [==============================] - 1s 20ms/step - loss: 0.0076 - accuracy: 0.9995 - val_loss: 0.6274 - val_accuracy: 0.8663\n",
            "Epoch 20/30\n",
            "30/30 [==============================] - 1s 20ms/step - loss: 0.0075 - accuracy: 0.9995 - val_loss: 0.6662 - val_accuracy: 0.8662\n",
            "Epoch 21/30\n",
            "30/30 [==============================] - 1s 20ms/step - loss: 0.0056 - accuracy: 0.9997 - val_loss: 0.7089 - val_accuracy: 0.8644\n",
            "Epoch 22/30\n",
            "30/30 [==============================] - 1s 21ms/step - loss: 0.0031 - accuracy: 0.9999 - val_loss: 0.7511 - val_accuracy: 0.8648\n",
            "Epoch 23/30\n",
            "30/30 [==============================] - 1s 20ms/step - loss: 0.0046 - accuracy: 0.9993 - val_loss: 0.7893 - val_accuracy: 0.8622\n",
            "Epoch 24/30\n",
            "30/30 [==============================] - 1s 20ms/step - loss: 0.0018 - accuracy: 0.9999 - val_loss: 0.8190 - val_accuracy: 0.8637\n",
            "Epoch 25/30\n",
            "30/30 [==============================] - 1s 21ms/step - loss: 0.0032 - accuracy: 0.9994 - val_loss: 0.8689 - val_accuracy: 0.8610\n",
            "Epoch 26/30\n",
            "30/30 [==============================] - 1s 20ms/step - loss: 0.0011 - accuracy: 0.9999 - val_loss: 0.8892 - val_accuracy: 0.8609\n",
            "Epoch 27/30\n",
            "30/30 [==============================] - 1s 20ms/step - loss: 0.0011 - accuracy: 0.9999 - val_loss: 0.9711 - val_accuracy: 0.8602\n",
            "Epoch 28/30\n",
            "30/30 [==============================] - 1s 20ms/step - loss: 7.7753e-04 - accuracy: 0.9999 - val_loss: 0.9842 - val_accuracy: 0.8601\n",
            "Epoch 29/30\n",
            "30/30 [==============================] - 1s 22ms/step - loss: 0.0025 - accuracy: 0.9994 - val_loss: 1.0236 - val_accuracy: 0.8607\n",
            "Epoch 30/30\n",
            "30/30 [==============================] - 1s 21ms/step - loss: 4.1618e-04 - accuracy: 0.9999 - val_loss: 1.0398 - val_accuracy: 0.8597\n"
          ]
        }
      ]
    },
    {
      "cell_type": "code",
      "source": [
        "history_dict = history.history\n",
        "history_dict.keys()"
      ],
      "metadata": {
        "colab": {
          "base_uri": "https://localhost:8080/"
        },
        "id": "qt-AudAkgYw2",
        "outputId": "d4d05506-27d7-42f4-818f-297c4bf3bae4"
      },
      "execution_count": 2,
      "outputs": [
        {
          "output_type": "execute_result",
          "data": {
            "text/plain": [
              "dict_keys(['loss', 'accuracy', 'val_loss', 'val_accuracy'])"
            ]
          },
          "metadata": {},
          "execution_count": 2
        }
      ]
    },
    {
      "cell_type": "code",
      "source": [
        "import matplotlib.pyplot as plt\n",
        "history_dict = history.history\n",
        "loss_values = history_dict[\"loss\"]\n",
        "val_loss_values = history_dict[\"val_loss\"]\n",
        "epochs = range(1, len(loss_values) + 1)\n",
        "plt.plot(epochs, loss_values, \"bo\", label=\"Training loss\")\n",
        "plt.plot(epochs, val_loss_values, \"b\", label=\"Validation loss\")\n",
        "plt.title(\"Training and validation loss\")\n",
        "plt.xlabel(\"Epochs\")\n",
        "plt.ylabel(\"Loss\")\n",
        "plt.legend()\n",
        "plt.show()\n"
      ],
      "metadata": {
        "colab": {
          "base_uri": "https://localhost:8080/",
          "height": 295
        },
        "id": "PxhcRyjtkNs-",
        "outputId": "c9fd8dc4-c739-4695-da8e-aeae6fbbb19a"
      },
      "execution_count": 3,
      "outputs": [
        {
          "output_type": "display_data",
          "data": {
            "text/plain": [
              "<Figure size 432x288 with 1 Axes>"
            ],
            "image/png": "[encoded data removed]"
          },
          "metadata": {
            "needs_background": "light"
          }
        }
      ]
    },
    {
      "cell_type": "code",
      "source": [
        "plt.clf()\n",
        "acc = history_dict[\"accuracy\"]\n",
        "val_acc = history_dict[\"val_accuracy\"]\n",
        "plt.plot(epochs, acc, \"bo\", label=\"Training acc\")\n",
        "plt.plot(epochs, val_acc, \"b\", label=\"Validation acc\")\n",
        "plt.title(\"Training and validation accuracy\")\n",
        "plt.xlabel(\"Epochs\")\n",
        "plt.ylabel(\"Accuracy\")\n",
        "plt.legend()\n",
        "plt.show()"
      ],
      "metadata": {
        "colab": {
          "base_uri": "https://localhost:8080/",
          "height": 295
        },
        "id": "RG-S7vrvkkaT",
        "outputId": "e74ae424-c2f1-4b90-c40d-71f28cfdc256"
      },
      "execution_count": null,
      "outputs": [
        {
          "output_type": "display_data",
          "data": {
            "text/plain": [
              "<Figure size 432x288 with 1 Axes>"
            ],
            "image/png": "[encoded data removed]"
          },
          "metadata": {
            "needs_background": "light"
          }
        }
      ]
    },
    {
      "cell_type": "code",
      "source": [
        "from tensorflow import keras\n",
        "from tensorflow.keras import layers\n",
        "\n",
        "model = keras.Sequential([\n",
        "    layers.Dense(16, activation=\"relu\"),\n",
        "    layers.Dense(16, activation=\"relu\"),\n",
        "    layers.Dense(1, activation=\"sigmoid\")\n",
        "])\n",
        "model.compile(optimizer=\"rmsprop\",\n",
        "              loss=\"binary_crossentropy\",\n",
        "              metrics=[\"accuracy\"])\n",
        "model.fit(x_train, y_train, epochs=4, batch_size=512)\n",
        "results = model.evaluate(x_test, y_test)\n",
        "results"
      ],
      "metadata": {
        "colab": {
          "base_uri": "https://localhost:8080/"
        },
        "id": "pC7tSck9mY3S",
        "outputId": "efe317bd-61f5-4c7b-8221-49909eb7463e"
      },
      "execution_count": 4,
      "outputs": [
        {
          "output_type": "stream",
          "name": "stdout",
          "text": [
            "Epoch 1/4\n",
            "49/49 [==============================] - 2s 20ms/step - loss: 0.4581 - accuracy: 0.8215\n",
            "Epoch 2/4\n",
            "49/49 [==============================] - 1s 27ms/step - loss: 0.2644 - accuracy: 0.9092\n",
            "Epoch 3/4\n",
            "49/49 [==============================] - 1s 16ms/step - loss: 0.2005 - accuracy: 0.9307\n",
            "Epoch 4/4\n",
            "49/49 [==============================] - 1s 16ms/step - loss: 0.1666 - accuracy: 0.9401\n",
            "782/782 [==============================] - 1s 2ms/step - loss: 0.2964 - accuracy: 0.8822\n"
          ]
        },
        {
          "output_type": "execute_result",
          "data": {
            "text/plain": [
              "[0.2963719964027405, 0.8822399973869324]"
            ]
          },
          "metadata": {},
          "execution_count": 4
        }
      ]
    },
    {
      "cell_type": "code",
      "source": [
        "model.predict(x_test)"
      ],
      "metadata": {
        "colab": {
          "base_uri": "https://localhost:8080/"
        },
        "id": "wG413OCfmHDa",
        "outputId": "795783cc-1162-4d7c-cfaf-d6fe1b7b64f8"
      },
      "execution_count": 5,
      "outputs": [
        {
          "output_type": "stream",
          "name": "stdout",
          "text": [
            "782/782 [==============================] - 1s 1ms/step\n"
          ]
        },
        {
          "output_type": "execute_result",
          "data": {
            "text/plain": [
              "array([[0.21868093],\n",
              "       [0.9998383 ],\n",
              "       [0.8235435 ],\n",
              "       ...,\n",
              "       [0.08428865],\n",
              "       [0.05955502],\n",
              "       [0.5926633 ]], dtype=float32)"
            ]
          },
          "metadata": {},
          "execution_count": 5
        }
      ]
    },
    {
      "cell_type": "code",
      "source": [],
      "metadata": {
        "id": "Pyd8ofHNpv2q"
      },
      "execution_count": null,
      "outputs": []
    }
  ]
}