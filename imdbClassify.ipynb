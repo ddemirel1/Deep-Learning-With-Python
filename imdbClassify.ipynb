{
  "nbformat": 4,
  "nbformat_minor": 0,
  "metadata": {
    "colab": {
      "name": "imdbClassify.ipynb",
      "provenance": [],
      "collapsed_sections": [],
      "authorship_tag": "ABX9TyPsrIcjBob6Q4RRZeVLdmgq",
      "include_colab_link": true
    },
    "kernelspec": {
      "name": "python3",
      "display_name": "Python 3"
    },
    "language_info": {
      "name": "python"
    }
  },
  "cells": [
    {
      "cell_type": "markdown",
      "metadata": {
        "id": "view-in-github",
        "colab_type": "text"
      },
      "source": [
        "<a href=\"https://colab.research.google.com/github/ddemirel1/Deep-Learning-With-Python/blob/main/imdbClassify.ipynb\" target=\"_parent\"><img src=\"https://colab.research.google.com/assets/colab-badge.svg\" alt=\"Open In Colab\"/></a>"
      ]
    },
    {
      "cell_type": "code",
      "source": [
        ""
      ],
      "metadata": {
        "id": "yICZWL5Kb9R_"
      },
      "execution_count": null,
      "outputs": []
    },
    {
      "cell_type": "code",
      "source": [
        "from tensorflow.keras.datasets import imdb\n",
        "(train_data, train_labels), (test_data, test_labels) = imdb.load_data(\n",
        "    num_words=10000)\n",
        "import numpy as np\n",
        "def vectorize_sequences(sequences, dimension=10000):\n",
        "    results = np.zeros((len(sequences), dimension))\n",
        "    for i, sequence in enumerate(sequences):\n",
        "        for j in sequence:\n",
        "            results[i, j] = 1.\n",
        "    return results\n",
        "x_train = vectorize_sequences(train_data)\n",
        "x_test = vectorize_sequences(test_data)\n",
        "y_train = np.asarray(train_labels).astype(\"float32\")\n",
        "y_test = np.asarray(test_labels).astype(\"float32\")\n",
        "\n",
        "from tensorflow import keras\n",
        "from tensorflow.keras import layers\n",
        "\n",
        "model = keras.Sequential([\n",
        "    layers.Dense(16, activation=\"relu\"),\n",
        "    layers.Dense(16, activation=\"relu\"),\n",
        "    layers.Dense(1, activation=\"sigmoid\")\n",
        "])\n",
        "\n",
        "model.compile(optimizer=\"rmsprop\",\n",
        "              loss=\"binary_crossentropy\",\n",
        "              metrics=[\"accuracy\"])\n",
        "\n",
        "x_val = x_train[:10000]\n",
        "partial_x_train = x_train[10000:]\n",
        "y_val = y_train[:10000]\n",
        "partial_y_train = y_train[10000:]\n",
        "\n",
        "\n",
        "history = model.fit(partial_x_train,\n",
        "                    partial_y_train,\n",
        "                    epochs=30,\n",
        "                    batch_size=512,\n",
        "                    validation_data=(x_val, y_val))\n",
        "\n"
      ],
      "metadata": {
        "colab": {
          "base_uri": "https://localhost:8080/"
        },
        "id": "Hl0jZk1pb9T4",
        "outputId": "afaa92dc-3666-4d9a-8616-bde6d13bced6"
      },
      "execution_count": 4,
      "outputs": [
        {
          "output_type": "stream",
          "name": "stdout",
          "text": [
            "Epoch 1/30\n",
            "30/30 [==============================] - 3s 70ms/step - loss: 0.5021 - accuracy: 0.7899 - val_loss: 0.3730 - val_accuracy: 0.8724\n",
            "Epoch 2/30\n",
            "30/30 [==============================] - 1s 45ms/step - loss: 0.2965 - accuracy: 0.9043 - val_loss: 0.2983 - val_accuracy: 0.8879\n",
            "Epoch 3/30\n",
            "30/30 [==============================] - 1s 45ms/step - loss: 0.2149 - accuracy: 0.9283 - val_loss: 0.2950 - val_accuracy: 0.8833\n",
            "Epoch 4/30\n",
            "30/30 [==============================] - 1s 46ms/step - loss: 0.1708 - accuracy: 0.9445 - val_loss: 0.2808 - val_accuracy: 0.8867\n",
            "Epoch 5/30\n",
            "30/30 [==============================] - 1s 46ms/step - loss: 0.1419 - accuracy: 0.9533 - val_loss: 0.2823 - val_accuracy: 0.8848\n",
            "Epoch 6/30\n",
            "30/30 [==============================] - 1s 45ms/step - loss: 0.1130 - accuracy: 0.9659 - val_loss: 0.2954 - val_accuracy: 0.8851\n",
            "Epoch 7/30\n",
            "30/30 [==============================] - 1s 44ms/step - loss: 0.0941 - accuracy: 0.9708 - val_loss: 0.3497 - val_accuracy: 0.8759\n",
            "Epoch 8/30\n",
            "30/30 [==============================] - 1s 44ms/step - loss: 0.0780 - accuracy: 0.9781 - val_loss: 0.3337 - val_accuracy: 0.8815\n",
            "Epoch 9/30\n",
            "30/30 [==============================] - 1s 44ms/step - loss: 0.0621 - accuracy: 0.9835 - val_loss: 0.3636 - val_accuracy: 0.8763\n",
            "Epoch 10/30\n",
            "30/30 [==============================] - 1s 46ms/step - loss: 0.0528 - accuracy: 0.9853 - val_loss: 0.3873 - val_accuracy: 0.8749\n",
            "Epoch 11/30\n",
            "30/30 [==============================] - 1s 46ms/step - loss: 0.0407 - accuracy: 0.9909 - val_loss: 0.4177 - val_accuracy: 0.8753\n",
            "Epoch 12/30\n",
            "30/30 [==============================] - 1s 44ms/step - loss: 0.0332 - accuracy: 0.9925 - val_loss: 0.4692 - val_accuracy: 0.8667\n",
            "Epoch 13/30\n",
            "30/30 [==============================] - 1s 45ms/step - loss: 0.0260 - accuracy: 0.9954 - val_loss: 0.5256 - val_accuracy: 0.8683\n",
            "Epoch 14/30\n",
            "30/30 [==============================] - 1s 45ms/step - loss: 0.0184 - accuracy: 0.9975 - val_loss: 0.5204 - val_accuracy: 0.8708\n",
            "Epoch 15/30\n",
            "30/30 [==============================] - 1s 44ms/step - loss: 0.0168 - accuracy: 0.9975 - val_loss: 0.5612 - val_accuracy: 0.8714\n",
            "Epoch 16/30\n",
            "30/30 [==============================] - 1s 46ms/step - loss: 0.0116 - accuracy: 0.9989 - val_loss: 0.6302 - val_accuracy: 0.8605\n",
            "Epoch 17/30\n",
            "30/30 [==============================] - 1s 46ms/step - loss: 0.0096 - accuracy: 0.9991 - val_loss: 0.6434 - val_accuracy: 0.8694\n",
            "Epoch 18/30\n",
            "30/30 [==============================] - 1s 44ms/step - loss: 0.0089 - accuracy: 0.9983 - val_loss: 0.6728 - val_accuracy: 0.8660\n",
            "Epoch 19/30\n",
            "30/30 [==============================] - 1s 46ms/step - loss: 0.0040 - accuracy: 0.9999 - val_loss: 0.7103 - val_accuracy: 0.8624\n",
            "Epoch 20/30\n",
            "30/30 [==============================] - 1s 44ms/step - loss: 0.0092 - accuracy: 0.9977 - val_loss: 0.7401 - val_accuracy: 0.8641\n",
            "Epoch 21/30\n",
            "30/30 [==============================] - 1s 44ms/step - loss: 0.0022 - accuracy: 0.9999 - val_loss: 0.7658 - val_accuracy: 0.8635\n",
            "Epoch 22/30\n",
            "30/30 [==============================] - 1s 44ms/step - loss: 0.0075 - accuracy: 0.9980 - val_loss: 0.8056 - val_accuracy: 0.8640\n",
            "Epoch 23/30\n",
            "30/30 [==============================] - 1s 45ms/step - loss: 0.0013 - accuracy: 0.9999 - val_loss: 0.8254 - val_accuracy: 0.8623\n",
            "Epoch 24/30\n",
            "30/30 [==============================] - 1s 45ms/step - loss: 0.0012 - accuracy: 0.9999 - val_loss: 0.8678 - val_accuracy: 0.8619\n",
            "Epoch 25/30\n",
            "30/30 [==============================] - 1s 44ms/step - loss: 0.0033 - accuracy: 0.9993 - val_loss: 0.8971 - val_accuracy: 0.8618\n",
            "Epoch 26/30\n",
            "30/30 [==============================] - 1s 46ms/step - loss: 6.7648e-04 - accuracy: 1.0000 - val_loss: 0.9269 - val_accuracy: 0.8613\n",
            "Epoch 27/30\n",
            "30/30 [==============================] - 1s 45ms/step - loss: 0.0029 - accuracy: 0.9992 - val_loss: 0.9622 - val_accuracy: 0.8609\n",
            "Epoch 28/30\n",
            "30/30 [==============================] - 1s 46ms/step - loss: 3.9011e-04 - accuracy: 1.0000 - val_loss: 0.9858 - val_accuracy: 0.8600\n",
            "Epoch 29/30\n",
            "30/30 [==============================] - 1s 45ms/step - loss: 3.3086e-04 - accuracy: 1.0000 - val_loss: 1.0229 - val_accuracy: 0.8604\n",
            "Epoch 30/30\n",
            "30/30 [==============================] - 1s 46ms/step - loss: 0.0013 - accuracy: 0.9997 - val_loss: 1.0626 - val_accuracy: 0.8593\n"
          ]
        }
      ]
    },
    {
      "cell_type": "code",
      "source": [
        "history_dict = history.history\n",
        "history_dict.keys()"
      ],
      "metadata": {
        "colab": {
          "base_uri": "https://localhost:8080/"
        },
        "id": "qt-AudAkgYw2",
        "outputId": "9b7f4dd5-b718-43a6-c7b5-84ca902228a2"
      },
      "execution_count": 8,
      "outputs": [
        {
          "output_type": "execute_result",
          "data": {
            "text/plain": [
              "dict_keys(['loss', 'accuracy', 'val_loss', 'val_accuracy'])"
            ]
          },
          "metadata": {},
          "execution_count": 8
        }
      ]
    },
    {
      "cell_type": "code",
      "source": [
        "import matplotlib.pyplot as plt\n",
        "history_dict = history.history\n",
        "loss_values = history_dict[\"loss\"]\n",
        "val_loss_values = history_dict[\"val_loss\"]\n",
        "epochs = range(1, len(loss_values) + 1)\n",
        "plt.plot(epochs, loss_values, \"bo\", label=\"Training loss\")\n",
        "plt.plot(epochs, val_loss_values, \"b\", label=\"Validation loss\")\n",
        "plt.title(\"Training and validation loss\")\n",
        "plt.xlabel(\"Epochs\")\n",
        "plt.ylabel(\"Loss\")\n",
        "plt.legend()\n",
        "plt.show()\n"
      ],
      "metadata": {
        "colab": {
          "base_uri": "https://localhost:8080/",
          "height": 295
        },
        "id": "PxhcRyjtkNs-",
        "outputId": "d55a4190-26b1-4ba9-c77c-90260dd36c42"
      },
      "execution_count": 5,
      "outputs": [
        {
          "output_type": "display_data",
          "data": {
            "text/plain": [
              "<Figure size 432x288 with 1 Axes>"
            ],
            "image/png": "[encoded data removed]"
          },
          "metadata": {
            "needs_background": "light"
          }
        }
      ]
    },
    {
      "cell_type": "code",
      "source": [
        "plt.clf()\n",
        "acc = history_dict[\"accuracy\"]\n",
        "val_acc = history_dict[\"val_accuracy\"]\n",
        "plt.plot(epochs, acc, \"bo\", label=\"Training acc\")\n",
        "plt.plot(epochs, val_acc, \"b\", label=\"Validation acc\")\n",
        "plt.title(\"Training and validation accuracy\")\n",
        "plt.xlabel(\"Epochs\")\n",
        "plt.ylabel(\"Accuracy\")\n",
        "plt.legend()\n",
        "plt.show()"
      ],
      "metadata": {
        "colab": {
          "base_uri": "https://localhost:8080/",
          "height": 295
        },
        "id": "RG-S7vrvkkaT",
        "outputId": "e74ae424-c2f1-4b90-c40d-71f28cfdc256"
      },
      "execution_count": 6,
      "outputs": [
        {
          "output_type": "display_data",
          "data": {
            "text/plain": [
              "<Figure size 432x288 with 1 Axes>"
            ],
            "image/png": "[encoded data removed]"
          },
          "metadata": {
            "needs_background": "light"
          }
        }
      ]
    },
    {
      "cell_type": "code",
      "source": [
        "from tensorflow import keras\n",
        "from tensorflow.keras import layers\n",
        "\n",
        "model = keras.Sequential([\n",
        "    layers.Dense(16, activation=\"relu\"),\n",
        "    layers.Dense(16, activation=\"relu\"),\n",
        "    layers.Dense(1, activation=\"sigmoid\")\n",
        "])\n",
        "model.compile(optimizer=\"rmsprop\",\n",
        "              loss=\"binary_crossentropy\",\n",
        "              metrics=[\"accuracy\"])\n",
        "model.fit(x_train, y_train, epochs=4, batch_size=512)\n",
        "results = model.evaluate(x_test, y_test)"
      ],
      "metadata": {
        "colab": {
          "base_uri": "https://localhost:8080/"
        },
        "id": "pC7tSck9mY3S",
        "outputId": "c2a52089-6bab-402b-90d4-106948db76c4"
      },
      "execution_count": 7,
      "outputs": [
        {
          "output_type": "stream",
          "name": "stdout",
          "text": [
            "Epoch 1/4\n",
            "49/49 [==============================] - 2s 34ms/step - loss: 0.4625 - accuracy: 0.8235\n",
            "Epoch 2/4\n",
            "49/49 [==============================] - 2s 35ms/step - loss: 0.2646 - accuracy: 0.9101\n",
            "Epoch 3/4\n",
            "49/49 [==============================] - 2s 34ms/step - loss: 0.2048 - accuracy: 0.9258\n",
            "Epoch 4/4\n",
            "49/49 [==============================] - 2s 33ms/step - loss: 0.1714 - accuracy: 0.9392\n",
            "782/782 [==============================] - 2s 3ms/step - loss: 0.2961 - accuracy: 0.8827\n"
          ]
        }
      ]
    },
    {
      "cell_type": "code",
      "source": [
        "model.predict(x_test)"
      ],
      "metadata": {
        "colab": {
          "base_uri": "https://localhost:8080/"
        },
        "id": "wG413OCfmHDa",
        "outputId": "2be25f58-c9e4-40f2-9c39-c3d3e056dc98"
      },
      "execution_count": 8,
      "outputs": [
        {
          "output_type": "execute_result",
          "data": {
            "text/plain": [
              "array([[0.13332796],\n",
              "       [0.99952745],\n",
              "       [0.74735284],\n",
              "       ...,\n",
              "       [0.08782697],\n",
              "       [0.06907767],\n",
              "       [0.39793682]], dtype=float32)"
            ]
          },
          "metadata": {},
          "execution_count": 8
        }
      ]
    }
  ]
}